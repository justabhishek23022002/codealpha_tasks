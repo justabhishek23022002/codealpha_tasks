{
 "cells": [
  {
   "cell_type": "markdown",
   "id": "0276198f",
   "metadata": {},
   "source": [
    "## TASK - 2\n",
    "##### AUTHOR - ABHISHEK KUMAR DUBEY \n",
    "###### STOCK PREDICATION "
   ]
  },
  {
   "cell_type": "code",
   "execution_count": 6,
   "id": "eead5814",
   "metadata": {},
   "outputs": [],
   "source": [
    "import yfinance as yf\n",
    "import numpy as np\n",
    "from sklearn.preprocessing import MinMaxScaler\n",
    "from sklearn.model_selection import train_test_split\n",
    "from sklearn.metrics import mean_squared_error\n",
    "from sklearn.neural_network import MLPRegressor"
   ]
  },
  {
   "cell_type": "code",
   "execution_count": 7,
   "id": "dca8d826",
   "metadata": {},
   "outputs": [],
   "source": [
    "def get_stock_data(ticker, start_date, end_date):\n",
    "    try:\n",
    "        stock_data = yf.download(ticker, start=start_date, end=end_date)\n",
    "        return stock_data\n",
    "    except Exception as e:\n",
    "        print(f\"Error fetching stock data: {e}\")\n",
    "        return None"
   ]
  },
  {
   "cell_type": "code",
   "execution_count": 8,
   "id": "7afc7855",
   "metadata": {},
   "outputs": [],
   "source": [
    "stock_symbol = 'AAPL'\n",
    "start_date = '2020-01-01'\n",
    "end_date = '2022-01-01'"
   ]
  },
  {
   "cell_type": "code",
   "execution_count": 9,
   "id": "84e1f06a",
   "metadata": {},
   "outputs": [
    {
     "name": "stderr",
     "output_type": "stream",
     "text": [
      "[*********************100%%**********************]  1 of 1 completed\n"
     ]
    }
   ],
   "source": [
    "stock_data = get_stock_data(stock_symbol, start_date, end_date)\n",
    "def create_features_labels(data, window_size):\n",
    "    X, y = [], []\n",
    "    for i in range(len(data) - window_size):\n",
    "        X.append(data[i:i+window_size])\n",
    "        y.append(data[i+window_size])\n",
    "    return np.array(X), np.array(y)"
   ]
  },
  {
   "cell_type": "code",
   "execution_count": 10,
   "id": "4ec66d84",
   "metadata": {},
   "outputs": [
    {
     "name": "stdout",
     "output_type": "stream",
     "text": [
      "Mean Squared Error: 24.199660850213323\n"
     ]
    },
    {
     "name": "stderr",
     "output_type": "stream",
     "text": [
      "C:\\Users\\Abhishek\\anaconda3\\Lib\\site-packages\\sklearn\\neural_network\\_multilayer_perceptron.py:1625: DataConversionWarning: A column-vector y was passed when a 1d array was expected. Please change the shape of y to (n_samples, ), for example using ravel().\n",
      "  y = column_or_1d(y, warn=True)\n"
     ]
    }
   ],
   "source": [
    "if stock_data is not None and not stock_data.empty:\n",
    "    # Extract the 'Close' prices\n",
    "    closing_prices = stock_data['Close'].values.reshape(-1, 1)\n",
    "\n",
    "    # Normalize the data using MinMaxScaler\n",
    "    scaler = MinMaxScaler(feature_range=(0, 1))\n",
    "    normalized_data = scaler.fit_transform(closing_prices)\n",
    "\n",
    "    # Create features and labels\n",
    "    window_size = 10\n",
    "    X, y = create_features_labels(normalized_data, window_size)\n",
    "\n",
    "    # Split the data into training and testing sets\n",
    "    X_train, X_test, y_train, y_test = train_test_split(X, y, test_size=0.2, random_state=42)\n",
    "\n",
    "    # Train an MLPRegressor (you can replace this with an LSTM model using a deep learning library)\n",
    "    #model = MLPRegressor(hidden_layer_sizes=(50, 50), max_iter=1000)\n",
    "    #model.fit(X_train, y_train)\n",
    "    # Flatten the features\n",
    "    X_train_flat = X_train.reshape(X_train.shape[0], -1)\n",
    "    X_test_flat = X_test.reshape(X_test.shape[0], -1)\n",
    "\n",
    "    # Train an MLPRegressor\n",
    "    model = MLPRegressor(hidden_layer_sizes=(50, 50), max_iter=1000)\n",
    "    model.fit(X_train_flat, y_train)\n",
    "\n",
    "\n",
    "    # Make predictions on the test set\n",
    "    \n",
    "    y_pred = model.predict(X_test_flat)\n",
    "\n",
    "    # Inverse transform to get the original scale\n",
    "    y_test_inverse = scaler.inverse_transform(y_test.reshape(-1, 1))\n",
    "    y_pred_inverse = scaler.inverse_transform(y_pred.reshape(-1, 1))\n",
    "\n",
    "    # Evaluate the model using Mean Squared Error\n",
    "    mse = mean_squared_error(y_test_inverse, y_pred_inverse)\n",
    "    print(f\"Mean Squared Error: {mse}\")\n",
    "else:\n",
    "    print(\"No stock data available.\")"
   ]
  }
 ],
 "metadata": {
  "kernelspec": {
   "display_name": "Python 3 (ipykernel)",
   "language": "python",
   "name": "python3"
  },
  "language_info": {
   "codemirror_mode": {
    "name": "ipython",
    "version": 3
   },
   "file_extension": ".py",
   "mimetype": "text/x-python",
   "name": "python",
   "nbconvert_exporter": "python",
   "pygments_lexer": "ipython3",
   "version": "3.11.5"
  }
 },
 "nbformat": 4,
 "nbformat_minor": 5
}
